{
  "nbformat": 4,
  "nbformat_minor": 0,
  "metadata": {
    "colab": {
      "name": "Architectural Heritage Classification",
      "provenance": [],
      "toc_visible": true
    },
    "kernelspec": {
      "name": "python3",
      "display_name": "Python 3"
    },
    "language_info": {
      "name": "python"
    },
    "accelerator": "GPU"
  },
  "cells": [
    {
      "cell_type": "markdown",
      "metadata": {
        "id": "R0GZ-dN8dNPU"
      },
      "source": [
        "# Main code"
      ]
    },
    {
      "cell_type": "markdown",
      "metadata": {
        "id": "cSGVdtaajXd5"
      },
      "source": [
        "## Importing dataset"
      ]
    },
    {
      "cell_type": "code",
      "metadata": {
        "colab": {
          "base_uri": "https://localhost:8080/"
        },
        "id": "SD6UQnjR_tPQ",
        "outputId": "72d61c3d-5bdb-4a9f-afad-aeba1f4ca97c"
      },
      "source": [
        "#importing dataset from google drive\n",
        "from google.colab import drive\n",
        "drive.mount(\"/content/drive\")"
      ],
      "execution_count": 1,
      "outputs": [
        {
          "output_type": "stream",
          "text": [
            "Mounted at /content/drive\n"
          ],
          "name": "stdout"
        }
      ]
    },
    {
      "cell_type": "code",
      "metadata": {
        "colab": {
          "base_uri": "https://localhost:8080/"
        },
        "id": "1sIYIK3RCXOs",
        "outputId": "3c787af5-b4bb-4166-e37c-f656662133c5"
      },
      "source": [
        "root_dir = \"/content/drive/My Drive/dataset/\"\n",
        "drive.mount(\"/content/drive\", force_remount=True)"
      ],
      "execution_count": 2,
      "outputs": [
        {
          "output_type": "stream",
          "text": [
            "Mounted at /content/drive\n"
          ],
          "name": "stdout"
        }
      ]
    },
    {
      "cell_type": "code",
      "metadata": {
        "colab": {
          "base_uri": "https://localhost:8080/"
        },
        "id": "lsgXYCEsC4MU",
        "outputId": "d4e98dc2-561f-410f-acc0-75f11412ffd2"
      },
      "source": [
        "# Import Torch\n",
        "import torch\n",
        "# Setup device\n",
        "dev = torch.device(\"cuda\" if torch.cuda.is_available() else \"cpu\")\n",
        "print(dev)"
      ],
      "execution_count": 3,
      "outputs": [
        {
          "output_type": "stream",
          "text": [
            "cuda\n"
          ],
          "name": "stdout"
        }
      ]
    },
    {
      "cell_type": "markdown",
      "metadata": {
        "id": "UwF8hhJsDVda"
      },
      "source": [
        "## Creating a custom dataset"
      ]
    },
    {
      "cell_type": "code",
      "metadata": {
        "id": "Iu_aJ8ttDQ-T"
      },
      "source": [
        "# Importing libraries\n",
        "import torch\n",
        "from torchvision.datasets import ImageFolder\n",
        "import torchvision.transforms as T\n",
        "from torch.utils.data import DataLoader\n",
        "from sklearn.model_selection import train_test_split\n",
        "import matplotlib.pyplot as plt\n",
        "import os\n",
        "from random import shuffle\n",
        "import numpy as np\n",
        "%matplotlib inline"
      ],
      "execution_count": 4,
      "outputs": []
    },
    {
      "cell_type": "code",
      "metadata": {
        "id": "qh3RvJLlDlnu"
      },
      "source": [
        "transforms = T.Compose([\n",
        "        T.RandomHorizontalFlip(),\n",
        "        T.Resize((128,128)), #the images size of test and train_val sets were different (respectively 64x64, 128x128)              \n",
        "        T.ToTensor()\n",
        "    ])"
      ],
      "execution_count": 5,
      "outputs": []
    },
    {
      "cell_type": "code",
      "metadata": {
        "id": "cIFqPCr-Ejxp"
      },
      "source": [
        "train_val_dset = ImageFolder(os.path.join(root_dir, \"train\"), transform=transforms)\n",
        "test_dset = ImageFolder(os.path.join(root_dir, \"test\"), transform=transforms)\n",
        "#folder function is used"
      ],
      "execution_count": 6,
      "outputs": []
    },
    {
      "cell_type": "code",
      "metadata": {
        "colab": {
          "base_uri": "https://localhost:8080/"
        },
        "id": "zAEE6aP9FOP9",
        "outputId": "f939a08f-e9d1-4d70-ca8b-193ac163c74b"
      },
      "source": [
        "len(train_val_dset)"
      ],
      "execution_count": 7,
      "outputs": [
        {
          "output_type": "execute_result",
          "data": {
            "text/plain": [
              "10245"
            ]
          },
          "metadata": {
            "tags": []
          },
          "execution_count": 7
        }
      ]
    },
    {
      "cell_type": "code",
      "metadata": {
        "id": "Cw-3Ie3NFWYS"
      },
      "source": [
        "#splitting train e val\n",
        "train_len=int(0.8*len(train_val_dset))\n",
        "val_len=len(train_val_dset)-train_len"
      ],
      "execution_count": 8,
      "outputs": []
    },
    {
      "cell_type": "code",
      "metadata": {
        "id": "hETtciwLFd87"
      },
      "source": [
        "train_dset, val_dset = torch.utils.data.random_split(train_val_dset, [train_len, val_len])"
      ],
      "execution_count": 9,
      "outputs": []
    },
    {
      "cell_type": "code",
      "metadata": {
        "colab": {
          "base_uri": "https://localhost:8080/"
        },
        "id": "IVb1q_m5FtSS",
        "outputId": "bab20f97-054c-4b35-e8f9-eca90ee4b246"
      },
      "source": [
        "dataset, label = train_dset[0]\n",
        "print(dataset.shape)"
      ],
      "execution_count": 10,
      "outputs": [
        {
          "output_type": "stream",
          "text": [
            "torch.Size([3, 128, 128])\n"
          ],
          "name": "stdout"
        }
      ]
    },
    {
      "cell_type": "code",
      "metadata": {
        "colab": {
          "base_uri": "https://localhost:8080/"
        },
        "id": "lQkXQO_zgSWU",
        "outputId": "32c85dab-0c46-40e1-ea75-dc5b19155fe8"
      },
      "source": [
        "len(train_dset)"
      ],
      "execution_count": 11,
      "outputs": [
        {
          "output_type": "execute_result",
          "data": {
            "text/plain": [
              "8196"
            ]
          },
          "metadata": {
            "tags": []
          },
          "execution_count": 11
        }
      ]
    },
    {
      "cell_type": "code",
      "metadata": {
        "colab": {
          "base_uri": "https://localhost:8080/"
        },
        "id": "Z1IUYHujg4LF",
        "outputId": "c7cc24d4-fed7-461c-ac7d-1f861acdd429"
      },
      "source": [
        "len(test_dset)"
      ],
      "execution_count": 12,
      "outputs": [
        {
          "output_type": "execute_result",
          "data": {
            "text/plain": [
              "1434"
            ]
          },
          "metadata": {
            "tags": []
          },
          "execution_count": 12
        }
      ]
    },
    {
      "cell_type": "code",
      "metadata": {
        "colab": {
          "base_uri": "https://localhost:8080/"
        },
        "id": "FnsIpa80g7Pw",
        "outputId": "71880744-817d-40b0-e530-259bf34d2575"
      },
      "source": [
        "len(val_dset)"
      ],
      "execution_count": 13,
      "outputs": [
        {
          "output_type": "execute_result",
          "data": {
            "text/plain": [
              "2049"
            ]
          },
          "metadata": {
            "tags": []
          },
          "execution_count": 13
        }
      ]
    },
    {
      "cell_type": "code",
      "metadata": {
        "id": "rANfyn9eFy9M"
      },
      "source": [
        "train_loader = DataLoader(train_dset, batch_size=32, shuffle=True, drop_last=True, num_workers=2)\n",
        "test_loader = DataLoader(test_dset, batch_size=32, shuffle=False, drop_last=False, num_workers=2)\n",
        "val_loader = DataLoader(val_dset, batch_size=32, shuffle=False, drop_last=False, num_workers=2)"
      ],
      "execution_count": 11,
      "outputs": []
    },
    {
      "cell_type": "markdown",
      "metadata": {
        "id": "UzfFk99mF-Vg"
      },
      "source": [
        "## Classification with **2CNN 1FC**\n",
        "(best combination, val accuracy= 0.703)"
      ]
    },
    {
      "cell_type": "code",
      "metadata": {
        "id": "3JVkaB0GGaW4"
      },
      "source": [
        "import torch.nn as nn\n",
        "\n",
        "class SimpleCNN(nn.Module):\n",
        "\n",
        "  #Constructor\n",
        "  def __init__(self):\n",
        "    # Call parent contructor\n",
        "    super().__init__()\n",
        "    self.conv_layer = nn.Sequential(\n",
        "        # Layer 1\n",
        "        nn.Conv2d(in_channels=3, out_channels=32, kernel_size=5, padding=0, stride=1),\n",
        "        nn.ReLU(),\n",
        "        # Layer 2\n",
        "        nn.Conv2d(in_channels=32, out_channels=64, kernel_size=3, padding=0, stride=1),\n",
        "        nn.ReLU(),\n",
        "        nn.MaxPool2d(kernel_size=2, stride=2)\n",
        "    )\n",
        "       \n",
        "  # Forward\n",
        "  def forward(self, x):\n",
        "    x = self.conv_layer(x)\n",
        "    return x"
      ],
      "execution_count": 15,
      "outputs": []
    },
    {
      "cell_type": "code",
      "metadata": {
        "colab": {
          "base_uri": "https://localhost:8080/"
        },
        "id": "N8wYecuzHRTp",
        "outputId": "58b44223-0433-4fca-f576-af64514a09fd"
      },
      "source": [
        "# Create the model\n",
        "model = SimpleCNN()\n",
        "print(model)"
      ],
      "execution_count": 16,
      "outputs": [
        {
          "output_type": "stream",
          "text": [
            "SimpleCNN(\n",
            "  (conv_layer): Sequential(\n",
            "    (0): Conv2d(3, 32, kernel_size=(5, 5), stride=(1, 1))\n",
            "    (1): ReLU()\n",
            "    (2): Conv2d(32, 64, kernel_size=(3, 3), stride=(1, 1))\n",
            "    (3): ReLU()\n",
            "    (4): MaxPool2d(kernel_size=2, stride=2, padding=0, dilation=1, ceil_mode=False)\n",
            "  )\n",
            ")\n"
          ],
          "name": "stdout"
        }
      ]
    },
    {
      "cell_type": "code",
      "metadata": {
        "id": "yhADwsZeHUmk"
      },
      "source": [
        "test_x, _ = train_dset[0] "
      ],
      "execution_count": 17,
      "outputs": []
    },
    {
      "cell_type": "code",
      "metadata": {
        "colab": {
          "base_uri": "https://localhost:8080/"
        },
        "id": "xvvk97r-HXs9",
        "outputId": "6ff7c096-6f6b-47f0-ac18-5b1eb4b5e522"
      },
      "source": [
        "test_x.size()#get the size of the sample"
      ],
      "execution_count": 18,
      "outputs": [
        {
          "output_type": "execute_result",
          "data": {
            "text/plain": [
              "torch.Size([3, 128, 128])"
            ]
          },
          "metadata": {
            "tags": []
          },
          "execution_count": 18
        }
      ]
    },
    {
      "cell_type": "code",
      "metadata": {
        "colab": {
          "base_uri": "https://localhost:8080/"
        },
        "id": "izygvw28HaGz",
        "outputId": "ccbf627c-454d-4de1-a326-ce19436c752e"
      },
      "source": [
        "test_x = test_x.unsqueeze(dim=0) #adding the batch dimension\n",
        "test_x.size()"
      ],
      "execution_count": 19,
      "outputs": [
        {
          "output_type": "execute_result",
          "data": {
            "text/plain": [
              "torch.Size([1, 3, 128, 128])"
            ]
          },
          "metadata": {
            "tags": []
          },
          "execution_count": 19
        }
      ]
    },
    {
      "cell_type": "code",
      "metadata": {
        "colab": {
          "base_uri": "https://localhost:8080/"
        },
        "id": "E4p1ptolHhpU",
        "outputId": "9614321c-7508-4ed3-c774-05b4a8e414c4"
      },
      "source": [
        "output = model(test_x)\n",
        "output.shape"
      ],
      "execution_count": 20,
      "outputs": [
        {
          "output_type": "execute_result",
          "data": {
            "text/plain": [
              "torch.Size([1, 64, 61, 61])"
            ]
          },
          "metadata": {
            "tags": []
          },
          "execution_count": 20
        }
      ]
    },
    {
      "cell_type": "code",
      "metadata": {
        "colab": {
          "base_uri": "https://localhost:8080/"
        },
        "id": "eeoSxbRkHjGh",
        "outputId": "ab629724-c7f7-4a1e-8377-a855794321f4"
      },
      "source": [
        "out_features = output.size(1) * output.size(2) * output.size(3)\n",
        "print(out_features)"
      ],
      "execution_count": 21,
      "outputs": [
        {
          "output_type": "stream",
          "text": [
            "238144\n"
          ],
          "name": "stdout"
        }
      ]
    },
    {
      "cell_type": "code",
      "metadata": {
        "id": "EXIBsSgqHmj-"
      },
      "source": [
        "class CNN(nn.Module):\n",
        "  #Constructor\n",
        "  def __init__(self):\n",
        "    # Call parent contructor\n",
        "    super().__init__()\n",
        "    self.conv_layer = nn.Sequential(\n",
        "        # Layer 1\n",
        "        nn.Conv2d(in_channels=3, out_channels=32, kernel_size=5, padding=0, stride=1),\n",
        "        nn.ReLU(),\n",
        "        # Layer 2\n",
        "        nn.Conv2d(in_channels=32, out_channels=64, kernel_size=3, padding=0, stride=1),\n",
        "        nn.ReLU(),\n",
        "        nn.MaxPool2d(kernel_size=2, stride=2)\n",
        "    )\n",
        "    # Create fully-connected layers\n",
        "    self.fc_layers = nn.Sequential(\n",
        "        # a first FC layer\n",
        "        nn.Linear(238144, 1024),\n",
        "        nn.ReLU(),\n",
        "        # the final Classification Layer\n",
        "        nn.Linear(1024, 10)\n",
        "    )\n",
        "\n",
        "  # Forward\n",
        "  def forward(self, x):\n",
        "    x = self.conv_layer(x) # x has size: [B,64,61,61]; before passing to fc layer, we have to flatten x\n",
        "    x = x.view(x.size(0), -1) # now x has size [B, 238144]\n",
        "    output = self.fc_layers(x) # [B, 238144] --> [B, 1024] --> [B, 10]\n",
        "    return output"
      ],
      "execution_count": 22,
      "outputs": []
    },
    {
      "cell_type": "code",
      "metadata": {
        "colab": {
          "base_uri": "https://localhost:8080/"
        },
        "id": "vsprgBLJHs6m",
        "outputId": "2bf1e559-0a16-43b1-a669-b469323cb002"
      },
      "source": [
        "# Create the model\n",
        "model = CNN()\n",
        "output = model(test_x)\n",
        "output.shape"
      ],
      "execution_count": 23,
      "outputs": [
        {
          "output_type": "execute_result",
          "data": {
            "text/plain": [
              "torch.Size([1, 10])"
            ]
          },
          "metadata": {
            "tags": []
          },
          "execution_count": 23
        }
      ]
    },
    {
      "cell_type": "code",
      "metadata": {
        "colab": {
          "base_uri": "https://localhost:8080/"
        },
        "id": "J8XybYTGHv6I",
        "outputId": "7d55bcd3-3cf9-4e43-9f3d-5eb5e5243e0e"
      },
      "source": [
        "torch.cuda.is_available()#recalling GPU"
      ],
      "execution_count": 24,
      "outputs": [
        {
          "output_type": "execute_result",
          "data": {
            "text/plain": [
              "True"
            ]
          },
          "metadata": {
            "tags": []
          },
          "execution_count": 24
        }
      ]
    },
    {
      "cell_type": "code",
      "metadata": {
        "colab": {
          "base_uri": "https://localhost:8080/"
        },
        "id": "7chKf3hpHyWv",
        "outputId": "16890988-32fa-40a6-88dc-0c7c9b653f05"
      },
      "source": [
        "dev = torch.device('cuda')\n",
        "print(dev)"
      ],
      "execution_count": 25,
      "outputs": [
        {
          "output_type": "stream",
          "text": [
            "cuda\n"
          ],
          "name": "stdout"
        }
      ]
    },
    {
      "cell_type": "code",
      "metadata": {
        "id": "wSFpNZ1YH1Fu"
      },
      "source": [
        "# Define an optimizier\n",
        "import torch.optim as optim\n",
        "optimizer = optim.SGD(model.parameters(), lr = 0.01)\n",
        "# Define a loss \n",
        "criterion = nn.CrossEntropyLoss()"
      ],
      "execution_count": 26,
      "outputs": []
    },
    {
      "cell_type": "markdown",
      "metadata": {
        "id": "uDfYlSxoJOER"
      },
      "source": [
        "## Training of the best model"
      ]
    },
    {
      "cell_type": "code",
      "metadata": {
        "id": "Vo1YRtDpH5KF"
      },
      "source": [
        "def train(net, loaders, optimizer, criterion, epochs=100, dev=torch.device('cpu')):\n",
        "    try:\n",
        "        net = net.to(dev)\n",
        "        print(net)\n",
        "        # Initialize history\n",
        "        history_loss = {\"train\": [], \"val\": [], \"test\": []}\n",
        "        history_accuracy = {\"train\": [], \"val\": [], \"test\": []}\n",
        "        # Process each epoch\n",
        "        for epoch in range(epochs):\n",
        "            # Initialize epoch variables\n",
        "            sum_loss = {\"train\": 0, \"val\": 0, \"test\": 0}\n",
        "            sum_accuracy = {\"train\": 0, \"val\": 0, \"test\": 0}\n",
        "            # Process each split\n",
        "            for split in [\"train\", \"val\", \"test\"]:\n",
        "                # Process each batch\n",
        "                for (input, labels) in loaders[split]:\n",
        "                    # Move to CUDA\n",
        "                    input = input.to(dev)\n",
        "                    labels = labels.to(dev)\n",
        "                    # Reset gradients\n",
        "                    optimizer.zero_grad()\n",
        "                    # Compute output\n",
        "                    pred = net(input)\n",
        "                    loss = criterion(pred, labels)\n",
        "                    # Update loss\n",
        "                    sum_loss[split] += loss.item()\n",
        "                    # Check parameter update\n",
        "                    if split == \"train\":\n",
        "                        # Compute gradients\n",
        "                        loss.backward()\n",
        "                        # Optimize\n",
        "                        optimizer.step()\n",
        "                    # Compute accuracy\n",
        "                    _,pred_labels = pred.max(1)\n",
        "                    batch_accuracy = (pred_labels == labels).sum().item()/input.size(0)\n",
        "                    # Update accuracy\n",
        "                    sum_accuracy[split] += batch_accuracy\n",
        "            # Compute epoch loss/accuracy\n",
        "            epoch_loss = {split: sum_loss[split]/len(loaders[split]) for split in [\"train\", \"val\", \"test\"]}\n",
        "            epoch_accuracy = {split: sum_accuracy[split]/len(loaders[split]) for split in [\"train\", \"val\", \"test\"]}\n",
        "            # Update history\n",
        "            for split in [\"train\", \"val\", \"test\"]:\n",
        "                history_loss[split].append(epoch_loss[split])\n",
        "                history_accuracy[split].append(epoch_accuracy[split])\n",
        "            # Print info\n",
        "            print(f\"Epoch {epoch+1}:\",\n",
        "                  f\"TrL={epoch_loss['train']:.4f},\",\n",
        "                  f\"TrA={epoch_accuracy['train']:.4f},\",\n",
        "                  f\"VL={epoch_loss['val']:.4f},\",\n",
        "                  f\"VA={epoch_accuracy['val']:.4f},\",\n",
        "                  f\"TeL={epoch_loss['test']:.4f},\",\n",
        "                  f\"TeA={epoch_accuracy['test']:.4f},\")\n",
        "    except KeyboardInterrupt:\n",
        "        print(\"Interrupted\")\n",
        "    finally:\n",
        "        # Plot loss\n",
        "        plt.title(\"Loss\")\n",
        "        for split in [\"train\", \"val\", \"test\"]:\n",
        "            plt.plot(history_loss[split], label=split)\n",
        "        plt.legend()\n",
        "        plt.show()\n",
        "        # Plot accuracy\n",
        "        plt.title(\"Accuracy\")\n",
        "        for split in [\"train\", \"val\", \"test\"]:\n",
        "            plt.plot(history_accuracy[split], label=split)\n",
        "        plt.legend()\n",
        "        plt.show()"
      ],
      "execution_count": 27,
      "outputs": []
    },
    {
      "cell_type": "code",
      "metadata": {
        "id": "ZHMyPn7RH7IN"
      },
      "source": [
        "# Define dictionary of loaders\n",
        "loaders = {\"train\": train_loader,\n",
        "           \"val\": val_loader,\n",
        "           \"test\": test_loader}"
      ],
      "execution_count": 28,
      "outputs": []
    },
    {
      "cell_type": "code",
      "metadata": {
        "colab": {
          "base_uri": "https://localhost:8080/",
          "height": 1000
        },
        "id": "ZXZWq5HfIASv",
        "outputId": "5a861864-0a00-4f70-b68b-b0f0a5c482f8"
      },
      "source": [
        "# Train model\n",
        "train(model, loaders, optimizer, criterion, epochs=20, dev=dev)"
      ],
      "execution_count": 29,
      "outputs": [
        {
          "output_type": "stream",
          "text": [
            "CNN(\n",
            "  (conv_layer): Sequential(\n",
            "    (0): Conv2d(3, 32, kernel_size=(5, 5), stride=(1, 1))\n",
            "    (1): ReLU()\n",
            "    (2): Conv2d(32, 64, kernel_size=(3, 3), stride=(1, 1))\n",
            "    (3): ReLU()\n",
            "    (4): MaxPool2d(kernel_size=2, stride=2, padding=0, dilation=1, ceil_mode=False)\n",
            "  )\n",
            "  (fc_layers): Sequential(\n",
            "    (0): Linear(in_features=238144, out_features=1024, bias=True)\n",
            "    (1): ReLU()\n",
            "    (2): Linear(in_features=1024, out_features=10, bias=True)\n",
            "  )\n",
            ")\n",
            "Epoch 1: TrL=1.7767, TrA=0.3511, VL=1.6988, VA=0.3937, TeL=1.8817, TeA=0.3509,\n",
            "Epoch 2: TrL=1.4917, TrA=0.4553, VL=1.4356, VA=0.4755, TeL=1.5561, TeA=0.4351,\n",
            "Epoch 3: TrL=1.3685, TrA=0.5094, VL=1.3971, VA=0.4962, TeL=1.6563, TeA=0.3950,\n",
            "Epoch 4: TrL=1.2754, TrA=0.5436, VL=1.3102, VA=0.5255, TeL=1.4324, TeA=0.4901,\n",
            "Epoch 5: TrL=1.1926, TrA=0.5732, VL=1.1988, VA=0.5764, TeL=1.3347, TeA=0.5322,\n",
            "Epoch 6: TrL=1.1050, TrA=0.6035, VL=1.3714, VA=0.5139, TeL=1.2422, TeA=0.5516,\n",
            "Epoch 7: TrL=1.0070, TrA=0.6398, VL=1.0322, VA=0.6490, TeL=1.3681, TeA=0.5378,\n",
            "Epoch 8: TrL=0.9059, TrA=0.6871, VL=1.1378, VA=0.6115, TeL=1.2443, TeA=0.5791,\n",
            "Epoch 9: TrL=0.8091, TrA=0.7240, VL=1.1342, VA=0.6202, TeL=1.4884, TeA=0.5317,\n",
            "Epoch 10: TrL=0.7257, TrA=0.7516, VL=0.9409, VA=0.6745, TeL=1.1781, TeA=0.5925,\n",
            "Epoch 11: TrL=0.6392, TrA=0.7825, VL=0.9726, VA=0.6769, TeL=1.4170, TeA=0.5354,\n",
            "Epoch 12: TrL=0.5530, TrA=0.8153, VL=0.9241, VA=0.6913, TeL=1.1466, TeA=0.6105,\n",
            "Epoch 13: TrL=0.4703, TrA=0.8430, VL=0.9434, VA=0.6813, TeL=1.2556, TeA=0.5889,\n",
            "Epoch 14: TrL=0.3764, TrA=0.8782, VL=1.0291, VA=0.6721, TeL=1.5559, TeA=0.5280,\n",
            "Epoch 15: TrL=0.2987, TrA=0.9108, VL=0.9976, VA=0.6841, TeL=1.3127, TeA=0.6132,\n",
            "Epoch 16: TrL=0.2350, TrA=0.9326, VL=1.0031, VA=0.6889, TeL=1.3200, TeA=0.6035,\n",
            "Epoch 17: TrL=0.1809, TrA=0.9493, VL=1.0417, VA=0.7034, TeL=1.3770, TeA=0.6044,\n",
            "Epoch 18: TrL=0.1681, TrA=0.9557, VL=1.0993, VA=0.6928, TeL=1.4172, TeA=0.6167,\n",
            "Epoch 19: TrL=0.1034, TrA=0.9723, VL=1.1686, VA=0.6894, TeL=1.5523, TeA=0.5994,\n",
            "Epoch 20: TrL=0.0698, TrA=0.9808, VL=1.1907, VA=0.6962, TeL=1.5982, TeA=0.5982,\n"
          ],
          "name": "stdout"
        },
        {
          "output_type": "display_data",
          "data": {
            "image/png": "[encoded data removed]",
            "text/plain": [
              "<Figure size 432x288 with 1 Axes>"
            ]
          },
          "metadata": {
            "tags": [],
            "needs_background": "light"
          }
        },
        {
          "output_type": "display_data",
          "data": {
            "image/png": "[encoded data removed]",
            "text/plain": [
              "<Figure size 432x288 with 1 Axes>"
            ]
          },
          "metadata": {
            "tags": [],
            "needs_background": "light"
          }
        }
      ]
    },
    {
      "cell_type": "markdown",
      "metadata": {
        "id": "WpGda9XHRZbV"
      },
      "source": [
        "At epoch17, the highest validation accuracy is reached."
      ]
    },
    {
      "cell_type": "markdown",
      "metadata": {
        "id": "GE_0Fn-kSBQN"
      },
      "source": [
        "__________"
      ]
    },
    {
      "cell_type": "markdown",
      "metadata": {
        "id": "XYelFPhXRKrK"
      },
      "source": [
        "# Ablation studies"
      ]
    },
    {
      "cell_type": "markdown",
      "metadata": {
        "id": "6fNtff1ERNSd"
      },
      "source": [
        "## Classification with 3CNN 1FC"
      ]
    },
    {
      "cell_type": "code",
      "metadata": {
        "id": "YIEYCloJRv42"
      },
      "source": [
        "import torch.nn as nn\n",
        "\n",
        "class SimpleCNN(nn.Module):\n",
        "\n",
        "  #Constructor\n",
        "  def __init__(self):\n",
        "    # Call parent contructor\n",
        "    super().__init__()\n",
        "    self.conv_layer = nn.Sequential(\n",
        "        # Layer 1\n",
        "        nn.Conv2d(in_channels=3, out_channels=32, kernel_size=5, padding=0, stride=1),\n",
        "        nn.ReLU(),\n",
        "        # Layer 2\n",
        "        nn.Conv2d(in_channels=32, out_channels=64, kernel_size=3, padding=0, stride=1),\n",
        "        nn.ReLU(),\n",
        "        nn.MaxPool2d(kernel_size=2, stride=2),\n",
        "        #Layer 3\n",
        "        nn.Conv2d(in_channels=64, out_channels=128, kernel_size=3, padding=0, stride=1),\n",
        "        nn.ReLU(),\n",
        "        nn.MaxPool2d(kernel_size=2, stride=2)\n",
        "    )\n",
        "       \n",
        "  # Forward\n",
        "  def forward(self, x):\n",
        "    x = self.conv_layer(x)\n",
        "    return x"
      ],
      "execution_count": 30,
      "outputs": []
    },
    {
      "cell_type": "code",
      "metadata": {
        "colab": {
          "base_uri": "https://localhost:8080/"
        },
        "id": "7qlIwhIOSgJB",
        "outputId": "83c571cc-33e1-4a1c-d7cd-72e1ab8b0bfd"
      },
      "source": [
        "# Create the model\n",
        "model = SimpleCNN()\n",
        "print(model)"
      ],
      "execution_count": 31,
      "outputs": [
        {
          "output_type": "stream",
          "text": [
            "SimpleCNN(\n",
            "  (conv_layer): Sequential(\n",
            "    (0): Conv2d(3, 32, kernel_size=(5, 5), stride=(1, 1))\n",
            "    (1): ReLU()\n",
            "    (2): Conv2d(32, 64, kernel_size=(3, 3), stride=(1, 1))\n",
            "    (3): ReLU()\n",
            "    (4): MaxPool2d(kernel_size=2, stride=2, padding=0, dilation=1, ceil_mode=False)\n",
            "    (5): Conv2d(64, 128, kernel_size=(3, 3), stride=(1, 1))\n",
            "    (6): ReLU()\n",
            "    (7): MaxPool2d(kernel_size=2, stride=2, padding=0, dilation=1, ceil_mode=False)\n",
            "  )\n",
            ")\n"
          ],
          "name": "stdout"
        }
      ]
    },
    {
      "cell_type": "code",
      "metadata": {
        "id": "pHbadZqcSpg9"
      },
      "source": [
        "test_x, _ = train_dset[0]"
      ],
      "execution_count": 32,
      "outputs": []
    },
    {
      "cell_type": "code",
      "metadata": {
        "colab": {
          "base_uri": "https://localhost:8080/"
        },
        "id": "wIreEH4iSsxP",
        "outputId": "fec97669-be17-4c62-d746-8982d328d170"
      },
      "source": [
        "test_x.size()"
      ],
      "execution_count": 33,
      "outputs": [
        {
          "output_type": "execute_result",
          "data": {
            "text/plain": [
              "torch.Size([3, 128, 128])"
            ]
          },
          "metadata": {
            "tags": []
          },
          "execution_count": 33
        }
      ]
    },
    {
      "cell_type": "code",
      "metadata": {
        "colab": {
          "base_uri": "https://localhost:8080/"
        },
        "id": "LXNF7W84S6I4",
        "outputId": "051a4102-2637-47ff-9a40-abd28f90929c"
      },
      "source": [
        "test_x = test_x.unsqueeze(dim=0)\n",
        "test_x.size()"
      ],
      "execution_count": 34,
      "outputs": [
        {
          "output_type": "execute_result",
          "data": {
            "text/plain": [
              "torch.Size([1, 3, 128, 128])"
            ]
          },
          "metadata": {
            "tags": []
          },
          "execution_count": 34
        }
      ]
    },
    {
      "cell_type": "code",
      "metadata": {
        "colab": {
          "base_uri": "https://localhost:8080/"
        },
        "id": "z1Sj3rVySvcV",
        "outputId": "6308159b-0508-4a89-8dcc-78c9f46a857d"
      },
      "source": [
        "output = model(test_x)\n",
        "output.shape"
      ],
      "execution_count": 35,
      "outputs": [
        {
          "output_type": "execute_result",
          "data": {
            "text/plain": [
              "torch.Size([1, 128, 29, 29])"
            ]
          },
          "metadata": {
            "tags": []
          },
          "execution_count": 35
        }
      ]
    },
    {
      "cell_type": "code",
      "metadata": {
        "colab": {
          "base_uri": "https://localhost:8080/"
        },
        "id": "cfEVoTNJTBH8",
        "outputId": "408886a2-96bf-4ffd-c1f1-febd5ca50f92"
      },
      "source": [
        "out_features = output.size(1) * output.size(2) * output.size(3)\n",
        "print(out_features)"
      ],
      "execution_count": 36,
      "outputs": [
        {
          "output_type": "stream",
          "text": [
            "107648\n"
          ],
          "name": "stdout"
        }
      ]
    },
    {
      "cell_type": "code",
      "metadata": {
        "id": "gg01148yTM2s"
      },
      "source": [
        "class CNN(nn.Module):\n",
        "  #Constructor\n",
        "  def __init__(self):\n",
        "    # Call parent contructor\n",
        "    super().__init__()\n",
        "    self.conv_layer = nn.Sequential(\n",
        "        # Layer 1\n",
        "        nn.Conv2d(in_channels=3, out_channels=32, kernel_size=5, padding=0, stride=1),\n",
        "        nn.ReLU(),\n",
        "        # Layer 2\n",
        "        nn.Conv2d(in_channels=32, out_channels=64, kernel_size=3, padding=0, stride=1),\n",
        "        nn.ReLU(),\n",
        "        nn.MaxPool2d(kernel_size=2, stride=2),\n",
        "        # Layer 3\n",
        "        nn.Conv2d(in_channels=64, out_channels=128, kernel_size=3, padding=0, stride=1),\n",
        "        nn.ReLU(),\n",
        "        nn.MaxPool2d(kernel_size=2, stride=2)\n",
        "\n",
        "    )\n",
        "    # Create fully-connected layers\n",
        "    self.fc_layers = nn.Sequential(\n",
        "        # a first FC layer\n",
        "        nn.Linear(107648, 1024),\n",
        "        nn.ReLU(),\n",
        "        # the final Classification Layer\n",
        "        nn.Linear(1024, 10)\n",
        "    )\n",
        "\n",
        "  # Forward\n",
        "  def forward(self, x):\n",
        "    x = self.conv_layer(x) # x has size: [B,128,29,29]; before passing to fc layer, we have to flatten x\n",
        "    x = x.view(x.size(0), -1) # now x has size [B, 107648]\n",
        "    output = self.fc_layers(x) # [B, 107648] --> [B, 1024] --> [B, 10]\n",
        "    return output"
      ],
      "execution_count": 37,
      "outputs": []
    },
    {
      "cell_type": "code",
      "metadata": {
        "colab": {
          "base_uri": "https://localhost:8080/"
        },
        "id": "cE2Oz9TdU37S",
        "outputId": "56cf0859-2437-4cb2-e6d9-0440727c15bd"
      },
      "source": [
        "# Create the model\n",
        "model = CNN()\n",
        "output = model(test_x)\n",
        "output.shape"
      ],
      "execution_count": 38,
      "outputs": [
        {
          "output_type": "execute_result",
          "data": {
            "text/plain": [
              "torch.Size([1, 10])"
            ]
          },
          "metadata": {
            "tags": []
          },
          "execution_count": 38
        }
      ]
    },
    {
      "cell_type": "code",
      "metadata": {
        "colab": {
          "base_uri": "https://localhost:8080/"
        },
        "id": "wx2DW0r5U68s",
        "outputId": "e54a8e16-3854-4a03-edf9-21d7dfcb2b3e"
      },
      "source": [
        "torch.cuda.is_available()"
      ],
      "execution_count": 39,
      "outputs": [
        {
          "output_type": "execute_result",
          "data": {
            "text/plain": [
              "True"
            ]
          },
          "metadata": {
            "tags": []
          },
          "execution_count": 39
        }
      ]
    },
    {
      "cell_type": "code",
      "metadata": {
        "colab": {
          "base_uri": "https://localhost:8080/"
        },
        "id": "RP7bl6BKU8l8",
        "outputId": "4be7d833-16b5-4971-e322-6685a768ef8d"
      },
      "source": [
        "dev = torch.device('cuda')\n",
        "print(dev)"
      ],
      "execution_count": 40,
      "outputs": [
        {
          "output_type": "stream",
          "text": [
            "cuda\n"
          ],
          "name": "stdout"
        }
      ]
    },
    {
      "cell_type": "code",
      "metadata": {
        "id": "tm2WkblyVAwH"
      },
      "source": [
        "# Define an optimizier\n",
        "import torch.optim as optim\n",
        "optimizer = optim.SGD(model.parameters(), lr = 0.01)\n",
        "# Define a loss \n",
        "criterion = nn.CrossEntropyLoss()"
      ],
      "execution_count": 41,
      "outputs": []
    },
    {
      "cell_type": "code",
      "metadata": {
        "id": "K1I_yMyMVFwM"
      },
      "source": [
        "def train(net, loaders, optimizer, criterion, epochs=100, dev=torch.device('cpu')):\n",
        "    try:\n",
        "        net = net.to(dev)\n",
        "        print(net)\n",
        "        # Initialize history\n",
        "        history_loss = {\"train\": [], \"val\": [], \"test\": []}\n",
        "        history_accuracy = {\"train\": [], \"val\": [], \"test\": []}\n",
        "        # Process each epoch\n",
        "        for epoch in range(epochs):\n",
        "            # Initialize epoch variables\n",
        "            sum_loss = {\"train\": 0, \"val\": 0, \"test\": 0}\n",
        "            sum_accuracy = {\"train\": 0, \"val\": 0, \"test\": 0}\n",
        "            # Process each split\n",
        "            for split in [\"train\", \"val\", \"test\"]:\n",
        "                # Process each batch\n",
        "                for (input, labels) in loaders[split]:\n",
        "                    # Move to CUDA\n",
        "                    input = input.to(dev)\n",
        "                    labels = labels.to(dev)\n",
        "                    # Reset gradients\n",
        "                    optimizer.zero_grad()\n",
        "                    # Compute output\n",
        "                    pred = net(input)\n",
        "                    loss = criterion(pred, labels)\n",
        "                    # Update loss\n",
        "                    sum_loss[split] += loss.item()\n",
        "                    # Check parameter update\n",
        "                    if split == \"train\":\n",
        "                        # Compute gradients\n",
        "                        loss.backward()\n",
        "                        # Optimize\n",
        "                        optimizer.step()\n",
        "                    # Compute accuracy\n",
        "                    _,pred_labels = pred.max(1)\n",
        "                    batch_accuracy = (pred_labels == labels).sum().item()/input.size(0)\n",
        "                    # Update accuracy\n",
        "                    sum_accuracy[split] += batch_accuracy\n",
        "            # Compute epoch loss/accuracy\n",
        "            epoch_loss = {split: sum_loss[split]/len(loaders[split]) for split in [\"train\", \"val\", \"test\"]}\n",
        "            epoch_accuracy = {split: sum_accuracy[split]/len(loaders[split]) for split in [\"train\", \"val\", \"test\"]}\n",
        "            # Update history\n",
        "            for split in [\"train\", \"val\", \"test\"]:\n",
        "                history_loss[split].append(epoch_loss[split])\n",
        "                history_accuracy[split].append(epoch_accuracy[split])\n",
        "            # Print info\n",
        "            print(f\"Epoch {epoch+1}:\",\n",
        "                  f\"TrL={epoch_loss['train']:.4f},\",\n",
        "                  f\"TrA={epoch_accuracy['train']:.4f},\",\n",
        "                  f\"VL={epoch_loss['val']:.4f},\",\n",
        "                  f\"VA={epoch_accuracy['val']:.4f},\",\n",
        "                  f\"TeL={epoch_loss['test']:.4f},\",\n",
        "                  f\"TeA={epoch_accuracy['test']:.4f},\")\n",
        "    except KeyboardInterrupt:\n",
        "        print(\"Interrupted\")\n",
        "    finally:\n",
        "        # Plot loss\n",
        "        plt.title(\"Loss\")\n",
        "        for split in [\"train\", \"val\", \"test\"]:\n",
        "            plt.plot(history_loss[split], label=split)\n",
        "        plt.legend()\n",
        "        plt.show()\n",
        "        # Plot accuracy\n",
        "        plt.title(\"Accuracy\")\n",
        "        for split in [\"train\", \"val\", \"test\"]:\n",
        "            plt.plot(history_accuracy[split], label=split)\n",
        "        plt.legend()\n",
        "        plt.show()"
      ],
      "execution_count": 42,
      "outputs": []
    },
    {
      "cell_type": "code",
      "metadata": {
        "id": "DM9K1D0-VI1B"
      },
      "source": [
        "# Define dictionary of loaders\n",
        "loaders = {\"train\": train_loader,\n",
        "           \"val\": val_loader,\n",
        "           \"test\": test_loader}"
      ],
      "execution_count": 43,
      "outputs": []
    },
    {
      "cell_type": "code",
      "metadata": {
        "colab": {
          "base_uri": "https://localhost:8080/",
          "height": 1000
        },
        "id": "EjMgTAO3VLHG",
        "outputId": "28049b5f-4318-4fcb-8652-4fe401a51793"
      },
      "source": [
        "# Train model\n",
        "train(model, loaders, optimizer, criterion, epochs=20, dev=dev)"
      ],
      "execution_count": 44,
      "outputs": [
        {
          "output_type": "stream",
          "text": [
            "CNN(\n",
            "  (conv_layer): Sequential(\n",
            "    (0): Conv2d(3, 32, kernel_size=(5, 5), stride=(1, 1))\n",
            "    (1): ReLU()\n",
            "    (2): Conv2d(32, 64, kernel_size=(3, 3), stride=(1, 1))\n",
            "    (3): ReLU()\n",
            "    (4): MaxPool2d(kernel_size=2, stride=2, padding=0, dilation=1, ceil_mode=False)\n",
            "    (5): Conv2d(64, 128, kernel_size=(3, 3), stride=(1, 1))\n",
            "    (6): ReLU()\n",
            "    (7): MaxPool2d(kernel_size=2, stride=2, padding=0, dilation=1, ceil_mode=False)\n",
            "  )\n",
            "  (fc_layers): Sequential(\n",
            "    (0): Linear(in_features=107648, out_features=1024, bias=True)\n",
            "    (1): ReLU()\n",
            "    (2): Linear(in_features=1024, out_features=10, bias=True)\n",
            "  )\n",
            ")\n",
            "Epoch 1: TrL=1.9896, TrA=0.2712, VL=1.7905, VA=0.3510, TeL=1.8007, TeA=0.3170,\n",
            "Epoch 2: TrL=1.6386, TrA=0.4065, VL=1.5171, VA=0.4558, TeL=1.6610, TeA=0.4145,\n",
            "Epoch 3: TrL=1.4777, TrA=0.4691, VL=1.4108, VA=0.4947, TeL=1.5532, TeA=0.4366,\n",
            "Epoch 4: TrL=1.3742, TrA=0.5001, VL=1.3708, VA=0.5019, TeL=1.5088, TeA=0.4504,\n",
            "Epoch 5: TrL=1.3122, TrA=0.5303, VL=1.2844, VA=0.5409, TeL=1.4744, TeA=0.4760,\n",
            "Epoch 6: TrL=1.2350, TrA=0.5656, VL=1.2776, VA=0.5413, TeL=1.4962, TeA=0.4619,\n",
            "Epoch 7: TrL=1.1697, TrA=0.5836, VL=1.2162, VA=0.5702, TeL=1.2642, TeA=0.5624,\n",
            "Epoch 8: TrL=1.1046, TrA=0.6083, VL=1.1991, VA=0.5668, TeL=1.4607, TeA=0.4981,\n",
            "Epoch 9: TrL=1.0362, TrA=0.6368, VL=1.1713, VA=0.5904, TeL=1.4305, TeA=0.4980,\n",
            "Epoch 10: TrL=0.9705, TrA=0.6593, VL=1.0353, VA=0.6356, TeL=1.2527, TeA=0.5639,\n",
            "Epoch 11: TrL=0.8944, TrA=0.6865, VL=1.1038, VA=0.6192, TeL=1.1700, TeA=0.5936,\n",
            "Epoch 12: TrL=0.8172, TrA=0.7198, VL=0.9833, VA=0.6649, TeL=1.3314, TeA=0.5542,\n",
            "Epoch 13: TrL=0.7433, TrA=0.7435, VL=0.9586, VA=0.6678, TeL=1.1598, TeA=0.5913,\n",
            "Epoch 14: TrL=0.6798, TrA=0.7689, VL=0.9174, VA=0.6803, TeL=1.0982, TeA=0.6252,\n",
            "Epoch 15: TrL=0.5948, TrA=0.7998, VL=0.9422, VA=0.6832, TeL=1.1184, TeA=0.6313,\n",
            "Epoch 16: TrL=0.5311, TrA=0.8209, VL=0.9547, VA=0.6813, TeL=1.0589, TeA=0.6516,\n",
            "Epoch 17: TrL=0.4463, TrA=0.8524, VL=0.9522, VA=0.6909, TeL=1.1997, TeA=0.6207,\n",
            "Epoch 18: TrL=0.3847, TrA=0.8710, VL=1.1110, VA=0.6582, TeL=1.0971, TeA=0.6586,\n",
            "Epoch 19: TrL=0.3204, TrA=0.8998, VL=1.0126, VA=0.6971, TeL=1.1807, TeA=0.6450,\n",
            "Epoch 20: TrL=0.2691, TrA=0.9150, VL=1.3885, VA=0.6293, TeL=1.4896, TeA=0.5972,\n"
          ],
          "name": "stdout"
        },
        {
          "output_type": "display_data",
          "data": {
            "image/png": "[encoded data removed]",
            "text/plain": [
              "<Figure size 432x288 with 1 Axes>"
            ]
          },
          "metadata": {
            "tags": [],
            "needs_background": "light"
          }
        },
        {
          "output_type": "display_data",
          "data": {
            "image/png": "[encoded data removed]",
            "text/plain": [
              "<Figure size 432x288 with 1 Axes>"
            ]
          },
          "metadata": {
            "tags": [],
            "needs_background": "light"
          }
        }
      ]
    },
    {
      "cell_type": "markdown",
      "metadata": {
        "id": "qlbEULnWYHtf"
      },
      "source": [
        "In this case, the highest validation accuracy= 0.679 is also reached at epoch 19."
      ]
    },
    {
      "cell_type": "markdown",
      "metadata": {
        "id": "sr1U0XIgXmo-"
      },
      "source": [
        "## Classification with 4CNN 1FC "
      ]
    },
    {
      "cell_type": "code",
      "metadata": {
        "id": "B8dQkvh3Xvkh"
      },
      "source": [
        "import torch.nn as nn\n",
        "\n",
        "class SimpleCNN(nn.Module):\n",
        "\n",
        "  #Constructor\n",
        "  def __init__(self):\n",
        "    # Call parent contructor\n",
        "    super().__init__()\n",
        "    self.conv_layer = nn.Sequential(\n",
        "        # Layer 1\n",
        "        nn.Conv2d(in_channels=3, out_channels=32, kernel_size=5, padding=0, stride=1),\n",
        "        nn.ReLU(),\n",
        "        # Layer 2\n",
        "        nn.Conv2d(in_channels=32, out_channels=64, kernel_size=3, padding=0, stride=1),\n",
        "        nn.ReLU(),\n",
        "        nn.MaxPool2d(kernel_size=2, stride=2),\n",
        "        #Layer 3\n",
        "        nn.Conv2d(in_channels=64, out_channels=128, kernel_size=3, padding=0, stride=1),\n",
        "        nn.ReLU(),\n",
        "        nn.MaxPool2d(kernel_size=2, stride=2),\n",
        "        #Layer 4\n",
        "        nn.Conv2d(in_channels=128, out_channels=256, kernel_size=3, padding=0, stride=1),\n",
        "        nn.ReLU(),\n",
        "        nn.MaxPool2d(kernel_size=2, stride=2)\n",
        "    )\n",
        "       \n",
        "  # Forward\n",
        "  def forward(self, x):\n",
        "    x = self.conv_layer(x)\n",
        "    return x"
      ],
      "execution_count": 45,
      "outputs": []
    },
    {
      "cell_type": "code",
      "metadata": {
        "colab": {
          "base_uri": "https://localhost:8080/"
        },
        "id": "4rVV1xL3Y8Xr",
        "outputId": "9ee3e1ce-9d45-4935-a8c3-671047bde91f"
      },
      "source": [
        "# Create the model\n",
        "model = SimpleCNN()\n",
        "print(model)"
      ],
      "execution_count": 46,
      "outputs": [
        {
          "output_type": "stream",
          "text": [
            "SimpleCNN(\n",
            "  (conv_layer): Sequential(\n",
            "    (0): Conv2d(3, 32, kernel_size=(5, 5), stride=(1, 1))\n",
            "    (1): ReLU()\n",
            "    (2): Conv2d(32, 64, kernel_size=(3, 3), stride=(1, 1))\n",
            "    (3): ReLU()\n",
            "    (4): MaxPool2d(kernel_size=2, stride=2, padding=0, dilation=1, ceil_mode=False)\n",
            "    (5): Conv2d(64, 128, kernel_size=(3, 3), stride=(1, 1))\n",
            "    (6): ReLU()\n",
            "    (7): MaxPool2d(kernel_size=2, stride=2, padding=0, dilation=1, ceil_mode=False)\n",
            "    (8): Conv2d(128, 256, kernel_size=(3, 3), stride=(1, 1))\n",
            "    (9): ReLU()\n",
            "    (10): MaxPool2d(kernel_size=2, stride=2, padding=0, dilation=1, ceil_mode=False)\n",
            "  )\n",
            ")\n"
          ],
          "name": "stdout"
        }
      ]
    },
    {
      "cell_type": "code",
      "metadata": {
        "id": "Qe2Piyy7ZAOQ"
      },
      "source": [
        "test_x, _ = train_dset[0]"
      ],
      "execution_count": 47,
      "outputs": []
    },
    {
      "cell_type": "code",
      "metadata": {
        "colab": {
          "base_uri": "https://localhost:8080/"
        },
        "id": "OsSjXFFIZK49",
        "outputId": "c185e753-b73a-420b-cfe4-4ed88af4dfb3"
      },
      "source": [
        "test_x.size()"
      ],
      "execution_count": 48,
      "outputs": [
        {
          "output_type": "execute_result",
          "data": {
            "text/plain": [
              "torch.Size([3, 128, 128])"
            ]
          },
          "metadata": {
            "tags": []
          },
          "execution_count": 48
        }
      ]
    },
    {
      "cell_type": "code",
      "metadata": {
        "colab": {
          "base_uri": "https://localhost:8080/"
        },
        "id": "PeC21n-jZNjw",
        "outputId": "a27288ae-677e-4df5-d33e-b58fe469389c"
      },
      "source": [
        "test_x = test_x.unsqueeze(dim=0)\n",
        "test_x.size()"
      ],
      "execution_count": 49,
      "outputs": [
        {
          "output_type": "execute_result",
          "data": {
            "text/plain": [
              "torch.Size([1, 3, 128, 128])"
            ]
          },
          "metadata": {
            "tags": []
          },
          "execution_count": 49
        }
      ]
    },
    {
      "cell_type": "code",
      "metadata": {
        "colab": {
          "base_uri": "https://localhost:8080/"
        },
        "id": "N_ckq7vCZQLJ",
        "outputId": "ed7b9703-b5b4-4540-a98c-deda1cc6c52a"
      },
      "source": [
        "output = model(test_x)\n",
        "output.shape"
      ],
      "execution_count": 50,
      "outputs": [
        {
          "output_type": "execute_result",
          "data": {
            "text/plain": [
              "torch.Size([1, 256, 13, 13])"
            ]
          },
          "metadata": {
            "tags": []
          },
          "execution_count": 50
        }
      ]
    },
    {
      "cell_type": "code",
      "metadata": {
        "colab": {
          "base_uri": "https://localhost:8080/"
        },
        "id": "Wzw46Ce1ZTkE",
        "outputId": "786fd976-2a18-42cc-a89a-f54af88ad66c"
      },
      "source": [
        "out_features = output.size(1) * output.size(2) * output.size(3)\n",
        "print(out_features)"
      ],
      "execution_count": 51,
      "outputs": [
        {
          "output_type": "stream",
          "text": [
            "43264\n"
          ],
          "name": "stdout"
        }
      ]
    },
    {
      "cell_type": "code",
      "metadata": {
        "id": "E8SzxUATZXY_"
      },
      "source": [
        "class CNN(nn.Module):\n",
        "  #Constructor\n",
        "  def __init__(self):\n",
        "    # Call parent contructor\n",
        "    super().__init__()\n",
        "    self.conv_layer = nn.Sequential(\n",
        "        # Layer 1\n",
        "        nn.Conv2d(in_channels=3, out_channels=32, kernel_size=5, padding=0, stride=1),\n",
        "        nn.ReLU(),\n",
        "        # Layer 2\n",
        "        nn.Conv2d(in_channels=32, out_channels=64, kernel_size=3, padding=0, stride=1),\n",
        "        nn.ReLU(),\n",
        "        nn.MaxPool2d(kernel_size=2, stride=2),\n",
        "        #Layer 3\n",
        "        nn.Conv2d(in_channels=64, out_channels=128, kernel_size=3, padding=0, stride=1),\n",
        "        nn.ReLU(),\n",
        "        nn.MaxPool2d(kernel_size=2, stride=2),\n",
        "        #Layer 4\n",
        "        nn.Conv2d(in_channels=128, out_channels=256, kernel_size=3, padding=0, stride=1),\n",
        "        nn.ReLU(),\n",
        "        nn.MaxPool2d(kernel_size=2, stride=2)\n",
        "    )\n",
        "    # Create fully-connected layers\n",
        "    self.fc_layers = nn.Sequential(\n",
        "        # a first FC layer\n",
        "        nn.Linear(43264, 1024),\n",
        "        nn.ReLU(),\n",
        "        # the final Classification Layer\n",
        "        nn.Linear(1024, 10)\n",
        "    )\n",
        "\n",
        "  # Forward\n",
        "  def forward(self, x):\n",
        "    x = self.conv_layer(x) # x has size: [B,256,13,13]; before passing to fc layer, we have to flatten x\n",
        "    x = x.view(x.size(0), -1) # now x has size [B, 43264\n",
        "    output = self.fc_layers(x) # [B, 43264] --> [B, 1024] --> [B, 10]\n",
        "    return output"
      ],
      "execution_count": 52,
      "outputs": []
    },
    {
      "cell_type": "code",
      "metadata": {
        "colab": {
          "base_uri": "https://localhost:8080/"
        },
        "id": "e-wis6_AZtxQ",
        "outputId": "5f4c005d-5982-4105-a48c-fedbac43fff2"
      },
      "source": [
        "# Create the model\n",
        "model = CNN()\n",
        "output = model(test_x)\n",
        "output.shape"
      ],
      "execution_count": 53,
      "outputs": [
        {
          "output_type": "execute_result",
          "data": {
            "text/plain": [
              "torch.Size([1, 10])"
            ]
          },
          "metadata": {
            "tags": []
          },
          "execution_count": 53
        }
      ]
    },
    {
      "cell_type": "code",
      "metadata": {
        "colab": {
          "base_uri": "https://localhost:8080/"
        },
        "id": "6YdGSAnRZwe3",
        "outputId": "9acac80f-e75d-45ad-f96e-373116d101f3"
      },
      "source": [
        "torch.cuda.is_available()"
      ],
      "execution_count": 54,
      "outputs": [
        {
          "output_type": "execute_result",
          "data": {
            "text/plain": [
              "True"
            ]
          },
          "metadata": {
            "tags": []
          },
          "execution_count": 54
        }
      ]
    },
    {
      "cell_type": "code",
      "metadata": {
        "colab": {
          "base_uri": "https://localhost:8080/"
        },
        "id": "wbW9Tzr1ZyXz",
        "outputId": "b82b4997-c3ad-42ee-f74b-07786713efc0"
      },
      "source": [
        "dev = torch.device('cuda')\n",
        "print(dev)"
      ],
      "execution_count": 55,
      "outputs": [
        {
          "output_type": "stream",
          "text": [
            "cuda\n"
          ],
          "name": "stdout"
        }
      ]
    },
    {
      "cell_type": "code",
      "metadata": {
        "id": "r-MNQ54SZ2Y3"
      },
      "source": [
        "# Define an optimizier\n",
        "import torch.optim as optim\n",
        "optimizer = optim.SGD(model.parameters(), lr = 0.01)\n",
        "# Define a loss \n",
        "criterion = nn.CrossEntropyLoss()"
      ],
      "execution_count": 56,
      "outputs": []
    },
    {
      "cell_type": "code",
      "metadata": {
        "id": "1XfxSSZbZ8EJ"
      },
      "source": [
        "def train(net, loaders, optimizer, criterion, epochs=100, dev=torch.device('cpu')):\n",
        "    try:\n",
        "        net = net.to(dev)\n",
        "        print(net)\n",
        "        # Initialize history\n",
        "        history_loss = {\"train\": [], \"val\": [], \"test\": []}\n",
        "        history_accuracy = {\"train\": [], \"val\": [], \"test\": []}\n",
        "        # Process each epoch\n",
        "        for epoch in range(epochs):\n",
        "            # Initialize epoch variables\n",
        "            sum_loss = {\"train\": 0, \"val\": 0, \"test\": 0}\n",
        "            sum_accuracy = {\"train\": 0, \"val\": 0, \"test\": 0}\n",
        "            # Process each split\n",
        "            for split in [\"train\", \"val\", \"test\"]:\n",
        "                # Process each batch\n",
        "                for (input, labels) in loaders[split]:\n",
        "                    # Move to CUDA\n",
        "                    input = input.to(dev)\n",
        "                    labels = labels.to(dev)\n",
        "                    # Reset gradients\n",
        "                    optimizer.zero_grad()\n",
        "                    # Compute output\n",
        "                    pred = net(input)\n",
        "                    loss = criterion(pred, labels)\n",
        "                    # Update loss\n",
        "                    sum_loss[split] += loss.item()\n",
        "                    # Check parameter update\n",
        "                    if split == \"train\":\n",
        "                        # Compute gradients\n",
        "                        loss.backward()\n",
        "                        # Optimize\n",
        "                        optimizer.step()\n",
        "                    # Compute accuracy\n",
        "                    _,pred_labels = pred.max(1)\n",
        "                    batch_accuracy = (pred_labels == labels).sum().item()/input.size(0)\n",
        "                    # Update accuracy\n",
        "                    sum_accuracy[split] += batch_accuracy\n",
        "            # Compute epoch loss/accuracy\n",
        "            epoch_loss = {split: sum_loss[split]/len(loaders[split]) for split in [\"train\", \"val\", \"test\"]}\n",
        "            epoch_accuracy = {split: sum_accuracy[split]/len(loaders[split]) for split in [\"train\", \"val\", \"test\"]}\n",
        "            # Update history\n",
        "            for split in [\"train\", \"val\", \"test\"]:\n",
        "                history_loss[split].append(epoch_loss[split])\n",
        "                history_accuracy[split].append(epoch_accuracy[split])\n",
        "            # Print info\n",
        "            print(f\"Epoch {epoch+1}:\",\n",
        "                  f\"TrL={epoch_loss['train']:.4f},\",\n",
        "                  f\"TrA={epoch_accuracy['train']:.4f},\",\n",
        "                  f\"VL={epoch_loss['val']:.4f},\",\n",
        "                  f\"VA={epoch_accuracy['val']:.4f},\",\n",
        "                  f\"TeL={epoch_loss['test']:.4f},\",\n",
        "                  f\"TeA={epoch_accuracy['test']:.4f},\")\n",
        "    except KeyboardInterrupt:\n",
        "        print(\"Interrupted\")\n",
        "    finally:\n",
        "        # Plot loss\n",
        "        plt.title(\"Loss\")\n",
        "        for split in [\"train\", \"val\", \"test\"]:\n",
        "            plt.plot(history_loss[split], label=split)\n",
        "        plt.legend()\n",
        "        plt.show()\n",
        "        # Plot accuracy\n",
        "        plt.title(\"Accuracy\")\n",
        "        for split in [\"train\", \"val\", \"test\"]:\n",
        "            plt.plot(history_accuracy[split], label=split)\n",
        "        plt.legend()\n",
        "        plt.show()"
      ],
      "execution_count": 57,
      "outputs": []
    },
    {
      "cell_type": "code",
      "metadata": {
        "id": "Zg10O9R1Z_sl"
      },
      "source": [
        "# Define dictionary of loaders\n",
        "loaders = {\"train\": train_loader,\n",
        "           \"val\": val_loader,\n",
        "           \"test\": test_loader}"
      ],
      "execution_count": 58,
      "outputs": []
    },
    {
      "cell_type": "code",
      "metadata": {
        "colab": {
          "base_uri": "https://localhost:8080/",
          "height": 1000
        },
        "id": "69jCWqjUaDjf",
        "outputId": "98bc5247-47ac-4e3b-fff7-dd845063dbd0"
      },
      "source": [
        "# Train model\n",
        "train(model, loaders, optimizer, criterion, epochs=20, dev=dev)"
      ],
      "execution_count": 59,
      "outputs": [
        {
          "output_type": "stream",
          "text": [
            "CNN(\n",
            "  (conv_layer): Sequential(\n",
            "    (0): Conv2d(3, 32, kernel_size=(5, 5), stride=(1, 1))\n",
            "    (1): ReLU()\n",
            "    (2): Conv2d(32, 64, kernel_size=(3, 3), stride=(1, 1))\n",
            "    (3): ReLU()\n",
            "    (4): MaxPool2d(kernel_size=2, stride=2, padding=0, dilation=1, ceil_mode=False)\n",
            "    (5): Conv2d(64, 128, kernel_size=(3, 3), stride=(1, 1))\n",
            "    (6): ReLU()\n",
            "    (7): MaxPool2d(kernel_size=2, stride=2, padding=0, dilation=1, ceil_mode=False)\n",
            "    (8): Conv2d(128, 256, kernel_size=(3, 3), stride=(1, 1))\n",
            "    (9): ReLU()\n",
            "    (10): MaxPool2d(kernel_size=2, stride=2, padding=0, dilation=1, ceil_mode=False)\n",
            "  )\n",
            "  (fc_layers): Sequential(\n",
            "    (0): Linear(in_features=43264, out_features=1024, bias=True)\n",
            "    (1): ReLU()\n",
            "    (2): Linear(in_features=1024, out_features=10, bias=True)\n",
            "  )\n",
            ")\n",
            "Epoch 1: TrL=2.1473, TrA=0.2133, VL=2.0186, VA=0.2543, TeL=2.0717, TeA=0.2651,\n",
            "Epoch 2: TrL=1.7877, TrA=0.3506, VL=1.6704, VA=0.4024, TeL=1.7120, TeA=0.3649,\n",
            "Epoch 3: TrL=1.6238, TrA=0.4135, VL=1.5324, VA=0.4601, TeL=1.5524, TeA=0.4608,\n",
            "Epoch 4: TrL=1.4907, TrA=0.4678, VL=1.5243, VA=0.4356, TeL=1.5276, TeA=0.4211,\n",
            "Epoch 5: TrL=1.3714, TrA=0.5107, VL=1.3637, VA=0.5269, TeL=1.5267, TeA=0.4653,\n",
            "Epoch 6: TrL=1.2387, TrA=0.5673, VL=1.2089, VA=0.5788, TeL=1.3525, TeA=0.5194,\n",
            "Epoch 7: TrL=1.1317, TrA=0.6056, VL=1.1342, VA=0.6067, TeL=1.2784, TeA=0.5561,\n",
            "Epoch 8: TrL=1.0448, TrA=0.6344, VL=1.0695, VA=0.6356, TeL=1.1305, TeA=0.6075,\n",
            "Epoch 9: TrL=0.9618, TrA=0.6688, VL=1.1113, VA=0.6380, TeL=1.2679, TeA=0.5787,\n",
            "Epoch 10: TrL=0.8872, TrA=0.6936, VL=1.0579, VA=0.6293, TeL=1.1686, TeA=0.5774,\n",
            "Epoch 11: TrL=0.8030, TrA=0.7253, VL=0.9969, VA=0.6601, TeL=1.0488, TeA=0.6457,\n",
            "Epoch 12: TrL=0.7186, TrA=0.7500, VL=1.0070, VA=0.6625, TeL=1.1759, TeA=0.6091,\n",
            "Epoch 13: TrL=0.6630, TrA=0.7759, VL=0.9790, VA=0.6769, TeL=1.0888, TeA=0.6364,\n",
            "Epoch 14: TrL=0.5824, TrA=0.7998, VL=1.0040, VA=0.6716, TeL=1.0194, TeA=0.6561,\n",
            "Epoch 15: TrL=0.5194, TrA=0.8286, VL=1.0435, VA=0.6755, TeL=0.9993, TeA=0.6708,\n",
            "Epoch 16: TrL=0.4226, TrA=0.8601, VL=0.9736, VA=0.6889, TeL=1.0445, TeA=0.6594,\n",
            "Epoch 17: TrL=0.3593, TrA=0.8796, VL=1.2536, VA=0.6562, TeL=1.1845, TeA=0.6447,\n",
            "Epoch 18: TrL=0.3394, TrA=0.8931, VL=1.4964, VA=0.6163, TeL=1.6266, TeA=0.5651,\n",
            "Epoch 19: TrL=0.2673, TrA=0.9158, VL=1.1707, VA=0.6875, TeL=1.2717, TeA=0.6613,\n",
            "Epoch 20: TrL=0.2035, TrA=0.9336, VL=1.3181, VA=0.6832, TeL=1.3559, TeA=0.6662,\n"
          ],
          "name": "stdout"
        },
        {
          "output_type": "display_data",
          "data": {
            "image/png": "[encoded data removed]",
            "text/plain": [
              "<Figure size 432x288 with 1 Axes>"
            ]
          },
          "metadata": {
            "tags": [],
            "needs_background": "light"
          }
        },
        {
          "output_type": "display_data",
          "data": {
            "image/png": "[encoded data removed]",
            "text/plain": [
              "<Figure size 432x288 with 1 Axes>"
            ]
          },
          "metadata": {
            "tags": [],
            "needs_background": "light"
          }
        }
      ]
    },
    {
      "cell_type": "markdown",
      "metadata": {
        "id": "mAI9REVXcdgw"
      },
      "source": [
        "Here, at epoch 16 we obtain the highest level of accuracy, 0.6889."
      ]
    },
    {
      "cell_type": "markdown",
      "metadata": {
        "id": "rmxLmwjpeRRs"
      },
      "source": [
        "# Additional comments"
      ]
    },
    {
      "cell_type": "markdown",
      "metadata": {
        "id": "VXxPGGnpeVRU"
      },
      "source": [
        "Generally speaking, the highest validation accuracy reached\n",
        "is 0.703. Lots of other parameter's combinations have been also proven (increasing the batch size or decreasing the in and out features) but the model, above provided, seems to be the best one. Probably, better results can be obtained with fine tuning or off the shelf procedure."
      ]
    }
  ]
}